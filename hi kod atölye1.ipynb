{
 "cells": [
  {
   "cell_type": "code",
   "execution_count": 1,
   "id": "8b9499a7",
   "metadata": {},
   "outputs": [
    {
     "data": {
      "text/plain": [
       "5.0"
      ]
     },
     "execution_count": 1,
     "metadata": {},
     "output_type": "execute_result"
    }
   ],
   "source": [
    "float(5)"
   ]
  },
  {
   "cell_type": "code",
   "execution_count": 13,
   "id": "6c6f24f6",
   "metadata": {},
   "outputs": [
    {
     "data": {
      "text/plain": [
       "False"
      ]
     },
     "execution_count": 13,
     "metadata": {},
     "output_type": "execute_result"
    }
   ],
   "source": [
    "bool(\"\")"
   ]
  },
  {
   "cell_type": "code",
   "execution_count": 2,
   "id": "2dc1e755",
   "metadata": {},
   "outputs": [
    {
     "data": {
      "text/plain": [
       "5"
      ]
     },
     "execution_count": 2,
     "metadata": {},
     "output_type": "execute_result"
    }
   ],
   "source": [
    "int(5.8)"
   ]
  },
  {
   "cell_type": "code",
   "execution_count": 3,
   "id": "981d1391",
   "metadata": {},
   "outputs": [
    {
     "data": {
      "text/plain": [
       "'8'"
      ]
     },
     "execution_count": 3,
     "metadata": {},
     "output_type": "execute_result"
    }
   ],
   "source": [
    "str(8)"
   ]
  },
  {
   "cell_type": "code",
   "execution_count": 5,
   "id": "400ac2f8",
   "metadata": {},
   "outputs": [
    {
     "data": {
      "text/plain": [
       "False"
      ]
     },
     "execution_count": 5,
     "metadata": {},
     "output_type": "execute_result"
    }
   ],
   "source": [
    "bool(0)"
   ]
  },
  {
   "cell_type": "code",
   "execution_count": 6,
   "id": "942960c2",
   "metadata": {},
   "outputs": [
    {
     "data": {
      "text/plain": [
       "True"
      ]
     },
     "execution_count": 6,
     "metadata": {},
     "output_type": "execute_result"
    }
   ],
   "source": [
    "bool(125)"
   ]
  },
  {
   "cell_type": "code",
   "execution_count": 9,
   "id": "20676682",
   "metadata": {},
   "outputs": [],
   "source": [
    "ayse = 25\n",
    "zeynep = 14\n",
    "berfin = 18"
   ]
  },
  {
   "cell_type": "code",
   "execution_count": 10,
   "id": "8733c056",
   "metadata": {},
   "outputs": [
    {
     "data": {
      "text/plain": [
       "False"
      ]
     },
     "execution_count": 10,
     "metadata": {},
     "output_type": "execute_result"
    }
   ],
   "source": [
    "ayse < berfin"
   ]
  },
  {
   "cell_type": "code",
   "execution_count": 11,
   "id": "55ef0556",
   "metadata": {},
   "outputs": [
    {
     "data": {
      "text/plain": [
       "1"
      ]
     },
     "execution_count": 11,
     "metadata": {},
     "output_type": "execute_result"
    }
   ],
   "source": [
    "int(bool(berfin > zeynep))"
   ]
  },
  {
   "cell_type": "code",
   "execution_count": 14,
   "id": "6103bdc7",
   "metadata": {},
   "outputs": [
    {
     "data": {
      "text/plain": [
       "False"
      ]
     },
     "execution_count": 14,
     "metadata": {},
     "output_type": "execute_result"
    }
   ],
   "source": [
    "berfin < 14 and berfin > 10"
   ]
  },
  {
   "cell_type": "code",
   "execution_count": 16,
   "id": "92db8650",
   "metadata": {},
   "outputs": [
    {
     "data": {
      "text/plain": [
       "True"
      ]
     },
     "execution_count": 16,
     "metadata": {},
     "output_type": "execute_result"
    }
   ],
   "source": [
    "ayse < 28 or zeynep > 15"
   ]
  },
  {
   "cell_type": "code",
   "execution_count": 17,
   "id": "84051337",
   "metadata": {},
   "outputs": [
    {
     "data": {
      "text/plain": [
       "True"
      ]
     },
     "execution_count": 17,
     "metadata": {},
     "output_type": "execute_result"
    }
   ],
   "source": [
    "not(ayse < 15 and zeynep < 45)"
   ]
  },
  {
   "cell_type": "code",
   "execution_count": 18,
   "id": "9d96dede",
   "metadata": {
    "scrolled": true
   },
   "outputs": [
    {
     "data": {
      "text/plain": [
       "False"
      ]
     },
     "execution_count": 18,
     "metadata": {},
     "output_type": "execute_result"
    }
   ],
   "source": [
    "ayse == berfin"
   ]
  },
  {
   "cell_type": "code",
   "execution_count": null,
   "id": "127e5962",
   "metadata": {},
   "outputs": [],
   "source": []
  },
  {
   "cell_type": "code",
   "execution_count": null,
   "id": "4d6d1baa",
   "metadata": {},
   "outputs": [],
   "source": [
    "input(\"sayı1 = x\")"
   ]
  },
  {
   "cell_type": "code",
   "execution_count": null,
   "id": "bdc3f59a",
   "metadata": {},
   "outputs": [],
   "source": [
    "input(\"sayı2 = y\")"
   ]
  },
  {
   "cell_type": "code",
   "execution_count": null,
   "id": "d0e5898c",
   "metadata": {},
   "outputs": [],
   "source": [
    "print(x+y)"
   ]
  },
  {
   "cell_type": "code",
   "execution_count": null,
   "id": "dbb7f9ad",
   "metadata": {},
   "outputs": [],
   "source": [
    "print(x*y)"
   ]
  },
  {
   "cell_type": "code",
   "execution_count": null,
   "id": "d8944bc6",
   "metadata": {},
   "outputs": [],
   "source": [
    "print(y/x)"
   ]
  },
  {
   "cell_type": "code",
   "execution_count": null,
   "id": "4e97d563",
   "metadata": {},
   "outputs": [],
   "source": [
    "print(x-y)"
   ]
  },
  {
   "cell_type": "code",
   "execution_count": null,
   "id": "41c1b871",
   "metadata": {},
   "outputs": [],
   "source": []
  },
  {
   "cell_type": "code",
   "execution_count": null,
   "id": "fc1b690a",
   "metadata": {},
   "outputs": [],
   "source": [
    "name = input(kullanıcı_ismi)"
   ]
  },
  {
   "cell_type": "code",
   "execution_count": null,
   "id": "8379f839",
   "metadata": {},
   "outputs": [],
   "source": [
    "print(name)"
   ]
  },
  {
   "cell_type": "code",
   "execution_count": null,
   "id": "0a9fa977",
   "metadata": {},
   "outputs": [],
   "source": [
    "age = input(kullanıcı_yası)"
   ]
  },
  {
   "cell_type": "code",
   "execution_count": null,
   "id": "aefb1cc4",
   "metadata": {},
   "outputs": [],
   "source": [
    "print(age)"
   ]
  },
  {
   "cell_type": "code",
   "execution_count": null,
   "id": "25afa2b2",
   "metadata": {},
   "outputs": [],
   "source": [
    "city = input(kullanıcı_sehri)"
   ]
  },
  {
   "cell_type": "code",
   "execution_count": null,
   "id": "ef9b46c4",
   "metadata": {},
   "outputs": [],
   "source": [
    "print(city)"
   ]
  },
  {
   "cell_type": "code",
   "execution_count": null,
   "id": "c6a840d8",
   "metadata": {},
   "outputs": [],
   "source": [
    "job = input(kullanıcı_meslek)"
   ]
  },
  {
   "cell_type": "code",
   "execution_count": null,
   "id": "a43cedff",
   "metadata": {},
   "outputs": [],
   "source": [
    "print(job)"
   ]
  },
  {
   "cell_type": "code",
   "execution_count": null,
   "id": "ca4444c5",
   "metadata": {},
   "outputs": [],
   "source": []
  },
  {
   "cell_type": "code",
   "execution_count": null,
   "id": "aa5ca203",
   "metadata": {},
   "outputs": [],
   "source": [
    "atolye = \"Hi-Kod Veri Bilimi Atölyesi\""
   ]
  },
  {
   "cell_type": "code",
   "execution_count": null,
   "id": "4c6f3a9b",
   "metadata": {},
   "outputs": [],
   "source": [
    "liste = atolye.split()"
   ]
  },
  {
   "cell_type": "code",
   "execution_count": null,
   "id": "e15eb7c0",
   "metadata": {},
   "outputs": [],
   "source": [
    "print(liste)"
   ]
  },
  {
   "cell_type": "code",
   "execution_count": null,
   "id": "17576fb8",
   "metadata": {},
   "outputs": [],
   "source": [
    "atolye.upper()"
   ]
  },
  {
   "cell_type": "code",
   "execution_count": null,
   "id": "24c55bc2",
   "metadata": {},
   "outputs": [],
   "source": [
    "atolye.lower()"
   ]
  },
  {
   "cell_type": "code",
   "execution_count": null,
   "id": "9b76b2df",
   "metadata": {},
   "outputs": [],
   "source": []
  },
  {
   "cell_type": "code",
   "execution_count": null,
   "id": "397818d5",
   "metadata": {},
   "outputs": [],
   "source": [
    "sayı = \"0123456789\""
   ]
  },
  {
   "cell_type": "code",
   "execution_count": null,
   "id": "f5dd3482",
   "metadata": {},
   "outputs": [],
   "source": [
    "sayı[::2]"
   ]
  },
  {
   "cell_type": "code",
   "execution_count": null,
   "id": "9cba2225",
   "metadata": {},
   "outputs": [],
   "source": [
    "sayı[1::2]"
   ]
  },
  {
   "cell_type": "code",
   "execution_count": null,
   "id": "1d1b825a",
   "metadata": {},
   "outputs": [],
   "source": []
  }
 ],
 "metadata": {
  "kernelspec": {
   "display_name": "Python 3 (ipykernel)",
   "language": "python",
   "name": "python3"
  },
  "language_info": {
   "codemirror_mode": {
    "name": "ipython",
    "version": 3
   },
   "file_extension": ".py",
   "mimetype": "text/x-python",
   "name": "python",
   "nbconvert_exporter": "python",
   "pygments_lexer": "ipython3",
   "version": "3.11.7"
  }
 },
 "nbformat": 4,
 "nbformat_minor": 5
}
